{
 "cells": [
  {
   "cell_type": "code",
   "id": "initial_id",
   "metadata": {
    "collapsed": true,
    "ExecuteTime": {
     "end_time": "2024-11-01T02:10:43.215351Z",
     "start_time": "2024-11-01T02:10:43.205352Z"
    }
   },
   "source": [
    "import numpy as np\n",
    "import pandas as pd\n",
    "from sklearn.linear_model import LinearRegression"
   ],
   "outputs": [],
   "execution_count": 3
  },
  {
   "metadata": {
    "ExecuteTime": {
     "end_time": "2024-11-01T02:10:44.340292Z",
     "start_time": "2024-11-01T02:10:44.335289Z"
    }
   },
   "cell_type": "code",
   "source": [
    "# data = pd.read_excel('山河四省.xlsx')\n",
    "# data = {\n",
    "#     'factor_1': data['财政一般预算收入（亿元）'].iloc[60:80],\n",
    "#     'target': data['城镇居民人均可支配收入（元）'].iloc[60:80]\n",
    "# }\n",
    "# df = pd.DataFrame(data)"
   ],
   "id": "87f48a35c50ae907",
   "outputs": [],
   "execution_count": 4
  },
  {
   "metadata": {
    "ExecuteTime": {
     "end_time": "2024-11-01T02:10:44.559650Z",
     "start_time": "2024-11-01T02:10:44.543653Z"
    }
   },
   "cell_type": "code",
   "source": [
    "# # 分离包含缺失值和不包含缺失值的数据\n",
    "# train_data = df[df['target'].notnull()]\n",
    "# test_data = df[df['target'].isnull()]\n",
    "# \n",
    "# # 确保自变量没有缺失值\n",
    "# train_data = train_data.dropna(subset=['factor_1'])\n",
    "# train_target = train_data['target']\n",
    "# \n",
    "# # 训练线性回归模型\n",
    "# model = LinearRegression()\n",
    "# model.fit(train_data[['factor_1']], train_target)\n",
    "# \n",
    "# # 预测缺失值\n",
    "# if not test_data.empty:\n",
    "#     # 预测目标列的缺失值\n",
    "#     predicted_values = model.predict(test_data[['factor_1']])\n",
    "#     \n",
    "#     # 将预测值填回原数据\n",
    "#     df.loc[df['target'].isnull(), 'target'] = predicted_values\n",
    "# \n",
    "# print(df['target'].to_string(index=False))"
   ],
   "id": "d3090b62d1584f66",
   "outputs": [],
   "execution_count": 5
  },
  {
   "metadata": {
    "ExecuteTime": {
     "end_time": "2024-11-01T02:14:25.570639Z",
     "start_time": "2024-11-01T02:14:25.520745Z"
    }
   },
   "cell_type": "code",
   "source": [
    "data = pd.read_excel(r'C:\\Users\\Administrator\\Desktop\\报告3\\年度时序预测Trans.xlsx')\n",
    "data_chushenglv = data.iloc[:, 8]\n",
    "data1 = data_chushenglv.interpolate()\n",
    "data1.to_excel('00.xlsx')"
   ],
   "id": "5a3f4f080f86595c",
   "outputs": [],
   "execution_count": 13
  },
  {
   "metadata": {},
   "cell_type": "code",
   "outputs": [],
   "execution_count": null,
   "source": "",
   "id": "b31774363b12f66e"
  }
 ],
 "metadata": {
  "kernelspec": {
   "display_name": "Python 3",
   "language": "python",
   "name": "python3"
  },
  "language_info": {
   "codemirror_mode": {
    "name": "ipython",
    "version": 2
   },
   "file_extension": ".py",
   "mimetype": "text/x-python",
   "name": "python",
   "nbconvert_exporter": "python",
   "pygments_lexer": "ipython2",
   "version": "2.7.6"
  }
 },
 "nbformat": 4,
 "nbformat_minor": 5
}
